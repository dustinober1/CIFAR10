{
 "cells": [
  {
   "cell_type": "code",
   "execution_count": 1,
   "id": "7eb54774-9630-4228-886f-f7eb4aba4123",
   "metadata": {},
   "outputs": [
    {
     "name": "stderr",
     "output_type": "stream",
     "text": [
      "/home/ubuntu/.local/lib/python3.8/site-packages/pandas/core/computation/expressions.py:20: UserWarning: Pandas requires version '2.7.3' or newer of 'numexpr' (version '2.7.1' currently installed).\n",
      "  from pandas.core.computation.check import NUMEXPR_INSTALLED\n"
     ]
    }
   ],
   "source": [
    "import keras\n",
    "from keras.datasets import cifar10\n",
    "from keras.models import Sequential\n",
    "from keras.layers import Dense, Dropout, Flatten\n",
    "from keras.layers import Conv2D, MaxPooling2D\n",
    "from keras.optimizers import Adam"
   ]
  },
  {
   "cell_type": "code",
   "execution_count": 2,
   "id": "db4492d6-bb8e-45b8-8d93-989376a27b1b",
   "metadata": {},
   "outputs": [],
   "source": [
    "# Hyperparameters\n",
    "batch_size = 128\n",
    "num_classes = 10\n",
    "epochs = 50"
   ]
  },
  {
   "cell_type": "code",
   "execution_count": 3,
   "id": "107215c0-4b12-48bf-9562-7d96627e0a8d",
   "metadata": {},
   "outputs": [
    {
     "name": "stdout",
     "output_type": "stream",
     "text": [
      "Downloading data from https://www.cs.toronto.edu/~kriz/cifar-10-python.tar.gz\n",
      "170498071/170498071 [==============================] - 4s 0us/step\n"
     ]
    }
   ],
   "source": [
    "# Load CIFAR-10 dataset\n",
    "(x_train, y_train), (x_test, y_test) = cifar10.load_data()"
   ]
  },
  {
   "cell_type": "code",
   "execution_count": 4,
   "id": "b9502077-31ff-4b5c-8bd7-bb665df105c4",
   "metadata": {},
   "outputs": [],
   "source": [
    "# Normalize the dataset\n",
    "x_train = x_train.astype('float32') / 255\n",
    "x_test = x_test.astype('float32') / 255"
   ]
  },
  {
   "cell_type": "code",
   "execution_count": 5,
   "id": "450dd221-5463-4327-853d-4fd71e56c4ab",
   "metadata": {},
   "outputs": [],
   "source": [
    "# Convert class vectors to binary class matrices\n",
    "y_train = keras.utils.to_categorical(y_train, num_classes)\n",
    "y_test = keras.utils.to_categorical(y_test, num_classes)"
   ]
  },
  {
   "cell_type": "code",
   "execution_count": 6,
   "id": "84db30fb-e7ef-45ff-9113-d55ef30a83d9",
   "metadata": {},
   "outputs": [],
   "source": [
    "# Define the model architecture\n",
    "model = Sequential()\n",
    "model.add(Conv2D(32, (3, 3), padding='same', activation='relu', input_shape=x_train.shape[1:]))\n",
    "model.add(Conv2D(32, (3, 3), activation='relu'))\n",
    "model.add(MaxPooling2D(pool_size=(2, 2)))\n",
    "model.add(Dropout(0.25))\n",
    "\n",
    "model.add(Conv2D(64, (3, 3), padding='same', activation='relu'))\n",
    "model.add(Conv2D(64, (3, 3), activation='relu'))\n",
    "model.add(MaxPooling2D(pool_size=(2, 2)))\n",
    "model.add(Dropout(0.25))\n",
    "\n",
    "model.add(Flatten())\n",
    "model.add(Dense(512, activation='relu'))\n",
    "model.add(Dropout(0.5))\n",
    "model.add(Dense(num_classes, activation='softmax'))"
   ]
  },
  {
   "cell_type": "code",
   "execution_count": 7,
   "id": "a00d14b7-dc27-47cf-8887-6f0482f83d3a",
   "metadata": {},
   "outputs": [],
   "source": [
    "# Compile the model\n",
    "model.compile(loss='categorical_crossentropy', optimizer=Adam(), metrics=['accuracy'])"
   ]
  },
  {
   "cell_type": "code",
   "execution_count": 8,
   "id": "82706bc2-86e0-4de6-834a-196cadebb0df",
   "metadata": {},
   "outputs": [
    {
     "name": "stdout",
     "output_type": "stream",
     "text": [
      "Epoch 1/50\n",
      "391/391 [==============================] - 8s 8ms/step - loss: 1.6466 - accuracy: 0.3942 - val_loss: 1.2626 - val_accuracy: 0.5478\n",
      "Epoch 2/50\n",
      "391/391 [==============================] - 2s 6ms/step - loss: 1.2396 - accuracy: 0.5556 - val_loss: 1.0603 - val_accuracy: 0.6241\n",
      "Epoch 3/50\n",
      "391/391 [==============================] - 2s 6ms/step - loss: 1.0668 - accuracy: 0.6204 - val_loss: 0.9349 - val_accuracy: 0.6664\n",
      "Epoch 4/50\n",
      "391/391 [==============================] - 2s 6ms/step - loss: 0.9527 - accuracy: 0.6641 - val_loss: 0.8681 - val_accuracy: 0.6921\n",
      "Epoch 5/50\n",
      "391/391 [==============================] - 2s 6ms/step - loss: 0.8817 - accuracy: 0.6906 - val_loss: 0.8218 - val_accuracy: 0.7115\n",
      "Epoch 6/50\n",
      "391/391 [==============================] - 2s 6ms/step - loss: 0.8184 - accuracy: 0.7116 - val_loss: 0.7850 - val_accuracy: 0.7274\n",
      "Epoch 7/50\n",
      "391/391 [==============================] - 2s 6ms/step - loss: 0.7636 - accuracy: 0.7314 - val_loss: 0.7346 - val_accuracy: 0.7459\n",
      "Epoch 8/50\n",
      "391/391 [==============================] - 2s 6ms/step - loss: 0.7223 - accuracy: 0.7444 - val_loss: 0.7264 - val_accuracy: 0.7472\n",
      "Epoch 9/50\n",
      "391/391 [==============================] - 2s 6ms/step - loss: 0.6901 - accuracy: 0.7573 - val_loss: 0.7043 - val_accuracy: 0.7507\n",
      "Epoch 10/50\n",
      "391/391 [==============================] - 2s 6ms/step - loss: 0.6522 - accuracy: 0.7699 - val_loss: 0.6839 - val_accuracy: 0.7649\n",
      "Epoch 11/50\n",
      "391/391 [==============================] - 2s 6ms/step - loss: 0.6224 - accuracy: 0.7784 - val_loss: 0.6901 - val_accuracy: 0.7638\n",
      "Epoch 12/50\n",
      "391/391 [==============================] - 2s 6ms/step - loss: 0.6010 - accuracy: 0.7883 - val_loss: 0.6434 - val_accuracy: 0.7805\n",
      "Epoch 13/50\n",
      "391/391 [==============================] - 2s 6ms/step - loss: 0.5765 - accuracy: 0.7939 - val_loss: 0.6364 - val_accuracy: 0.7803\n",
      "Epoch 14/50\n",
      "391/391 [==============================] - 2s 6ms/step - loss: 0.5482 - accuracy: 0.8043 - val_loss: 0.6217 - val_accuracy: 0.7846\n",
      "Epoch 15/50\n",
      "391/391 [==============================] - 2s 6ms/step - loss: 0.5272 - accuracy: 0.8130 - val_loss: 0.6319 - val_accuracy: 0.7831\n",
      "Epoch 16/50\n",
      "391/391 [==============================] - 2s 6ms/step - loss: 0.5152 - accuracy: 0.8160 - val_loss: 0.6368 - val_accuracy: 0.7834\n",
      "Epoch 17/50\n",
      "391/391 [==============================] - 2s 6ms/step - loss: 0.4949 - accuracy: 0.8249 - val_loss: 0.6250 - val_accuracy: 0.7858\n",
      "Epoch 18/50\n",
      "391/391 [==============================] - 2s 6ms/step - loss: 0.4782 - accuracy: 0.8300 - val_loss: 0.6462 - val_accuracy: 0.7834\n",
      "Epoch 19/50\n",
      "391/391 [==============================] - 2s 6ms/step - loss: 0.4648 - accuracy: 0.8353 - val_loss: 0.6388 - val_accuracy: 0.7870\n",
      "Epoch 20/50\n",
      "391/391 [==============================] - 2s 6ms/step - loss: 0.4471 - accuracy: 0.8402 - val_loss: 0.6436 - val_accuracy: 0.7871\n",
      "Epoch 21/50\n",
      "391/391 [==============================] - 2s 6ms/step - loss: 0.4410 - accuracy: 0.8424 - val_loss: 0.6356 - val_accuracy: 0.7915\n",
      "Epoch 22/50\n",
      "391/391 [==============================] - 2s 6ms/step - loss: 0.4290 - accuracy: 0.8473 - val_loss: 0.6394 - val_accuracy: 0.7881\n",
      "Epoch 23/50\n",
      "391/391 [==============================] - 2s 6ms/step - loss: 0.4178 - accuracy: 0.8503 - val_loss: 0.6495 - val_accuracy: 0.7917\n",
      "Epoch 24/50\n",
      "391/391 [==============================] - 2s 6ms/step - loss: 0.4083 - accuracy: 0.8541 - val_loss: 0.6251 - val_accuracy: 0.7942\n",
      "Epoch 25/50\n",
      "391/391 [==============================] - 2s 6ms/step - loss: 0.4031 - accuracy: 0.8554 - val_loss: 0.6183 - val_accuracy: 0.7975\n",
      "Epoch 26/50\n",
      "391/391 [==============================] - 2s 6ms/step - loss: 0.3914 - accuracy: 0.8593 - val_loss: 0.6229 - val_accuracy: 0.7975\n",
      "Epoch 27/50\n",
      "391/391 [==============================] - 2s 6ms/step - loss: 0.3752 - accuracy: 0.8652 - val_loss: 0.6328 - val_accuracy: 0.7947\n",
      "Epoch 28/50\n",
      "391/391 [==============================] - 2s 6ms/step - loss: 0.3801 - accuracy: 0.8639 - val_loss: 0.6224 - val_accuracy: 0.8026\n",
      "Epoch 29/50\n",
      "391/391 [==============================] - 2s 6ms/step - loss: 0.3607 - accuracy: 0.8725 - val_loss: 0.6430 - val_accuracy: 0.7954\n",
      "Epoch 30/50\n",
      "391/391 [==============================] - 2s 6ms/step - loss: 0.3594 - accuracy: 0.8705 - val_loss: 0.6395 - val_accuracy: 0.7955\n",
      "Epoch 31/50\n",
      "391/391 [==============================] - 2s 6ms/step - loss: 0.3534 - accuracy: 0.8734 - val_loss: 0.6571 - val_accuracy: 0.7956\n",
      "Epoch 32/50\n",
      "391/391 [==============================] - 2s 6ms/step - loss: 0.3377 - accuracy: 0.8791 - val_loss: 0.6448 - val_accuracy: 0.7963\n",
      "Epoch 33/50\n",
      "391/391 [==============================] - 2s 6ms/step - loss: 0.3392 - accuracy: 0.8787 - val_loss: 0.6747 - val_accuracy: 0.7932\n",
      "Epoch 34/50\n",
      "391/391 [==============================] - 2s 6ms/step - loss: 0.3394 - accuracy: 0.8780 - val_loss: 0.6534 - val_accuracy: 0.7985\n",
      "Epoch 35/50\n",
      "391/391 [==============================] - 2s 6ms/step - loss: 0.3282 - accuracy: 0.8832 - val_loss: 0.6550 - val_accuracy: 0.7957\n",
      "Epoch 36/50\n",
      "391/391 [==============================] - 2s 6ms/step - loss: 0.3221 - accuracy: 0.8851 - val_loss: 0.6411 - val_accuracy: 0.7939\n",
      "Epoch 37/50\n",
      "391/391 [==============================] - 2s 6ms/step - loss: 0.3214 - accuracy: 0.8857 - val_loss: 0.6555 - val_accuracy: 0.7946\n",
      "Epoch 38/50\n",
      "391/391 [==============================] - 2s 6ms/step - loss: 0.3149 - accuracy: 0.8873 - val_loss: 0.6523 - val_accuracy: 0.7987\n",
      "Epoch 39/50\n",
      "391/391 [==============================] - 2s 6ms/step - loss: 0.3092 - accuracy: 0.8892 - val_loss: 0.6583 - val_accuracy: 0.8024\n",
      "Epoch 40/50\n",
      "391/391 [==============================] - 2s 6ms/step - loss: 0.3058 - accuracy: 0.8904 - val_loss: 0.6553 - val_accuracy: 0.8044\n",
      "Epoch 41/50\n",
      "391/391 [==============================] - 2s 6ms/step - loss: 0.3063 - accuracy: 0.8907 - val_loss: 0.6862 - val_accuracy: 0.7967\n",
      "Epoch 42/50\n",
      "391/391 [==============================] - 2s 6ms/step - loss: 0.2981 - accuracy: 0.8923 - val_loss: 0.6667 - val_accuracy: 0.7999\n",
      "Epoch 43/50\n",
      "391/391 [==============================] - 2s 6ms/step - loss: 0.2952 - accuracy: 0.8927 - val_loss: 0.6895 - val_accuracy: 0.7978\n",
      "Epoch 44/50\n",
      "391/391 [==============================] - 2s 6ms/step - loss: 0.2908 - accuracy: 0.8966 - val_loss: 0.6731 - val_accuracy: 0.7955\n",
      "Epoch 45/50\n",
      "391/391 [==============================] - 2s 6ms/step - loss: 0.2852 - accuracy: 0.8995 - val_loss: 0.6846 - val_accuracy: 0.7992\n",
      "Epoch 46/50\n",
      "391/391 [==============================] - 2s 6ms/step - loss: 0.2952 - accuracy: 0.8943 - val_loss: 0.6700 - val_accuracy: 0.8034\n",
      "Epoch 47/50\n",
      "391/391 [==============================] - 2s 6ms/step - loss: 0.2820 - accuracy: 0.8989 - val_loss: 0.6809 - val_accuracy: 0.8010\n",
      "Epoch 48/50\n",
      "391/391 [==============================] - 2s 6ms/step - loss: 0.2832 - accuracy: 0.8990 - val_loss: 0.6528 - val_accuracy: 0.7988\n",
      "Epoch 49/50\n",
      "391/391 [==============================] - 2s 6ms/step - loss: 0.2757 - accuracy: 0.9012 - val_loss: 0.6842 - val_accuracy: 0.7954\n",
      "Epoch 50/50\n",
      "391/391 [==============================] - 2s 6ms/step - loss: 0.2729 - accuracy: 0.9031 - val_loss: 0.6708 - val_accuracy: 0.8048\n"
     ]
    },
    {
     "data": {
      "text/plain": [
       "<keras.callbacks.History at 0x7f45002f6c70>"
      ]
     },
     "execution_count": 8,
     "metadata": {},
     "output_type": "execute_result"
    }
   ],
   "source": [
    "# Train the model\n",
    "model.fit(x_train, y_train, batch_size=batch_size, epochs=epochs, validation_data=(x_test, y_test), shuffle=True)"
   ]
  },
  {
   "cell_type": "code",
   "execution_count": 9,
   "id": "c8c6b468-8b66-4ead-8c06-22229fc8eaae",
   "metadata": {},
   "outputs": [],
   "source": [
    "# Save model and weights\n",
    "model.save('cifar10_model.h5')"
   ]
  },
  {
   "cell_type": "code",
   "execution_count": 10,
   "id": "e247403f-30dc-402a-a9ce-3b9ac2ca69f4",
   "metadata": {},
   "outputs": [
    {
     "name": "stdout",
     "output_type": "stream",
     "text": [
      "313/313 [==============================] - 1s 2ms/step - loss: 0.6708 - accuracy: 0.8048\n",
      "Test loss: 0.6708400845527649\n",
      "Test accuracy: 0.8047999739646912\n"
     ]
    }
   ],
   "source": [
    "# Evaluate the performance of our trained model\n",
    "scores = model.evaluate(x_test, y_test, verbose=1)\n",
    "print('Test loss:', scores[0])\n",
    "print('Test accuracy:', scores[1])"
   ]
  },
  {
   "cell_type": "code",
   "execution_count": null,
   "id": "cca1832c-fae6-4e80-842a-bdb1993741ec",
   "metadata": {},
   "outputs": [],
   "source": []
  }
 ],
 "metadata": {
  "kernelspec": {
   "display_name": "Python 3",
   "language": "python",
   "name": "python3"
  },
  "language_info": {
   "codemirror_mode": {
    "name": "ipython",
    "version": 3
   },
   "file_extension": ".py",
   "mimetype": "text/x-python",
   "name": "python",
   "nbconvert_exporter": "python",
   "pygments_lexer": "ipython3",
   "version": "3.8.10"
  }
 },
 "nbformat": 4,
 "nbformat_minor": 5
}
